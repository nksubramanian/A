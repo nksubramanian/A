{
  "nbformat": 4,
  "nbformat_minor": 0,
  "metadata": {
    "colab": {
      "provenance": [],
      "collapsed_sections": [],
      "include_colab_link": true
    },
    "kernelspec": {
      "name": "python3",
      "display_name": "Python 3"
    },
    "language_info": {
      "name": "python"
    }
  },
  "cells": [
    {
      "cell_type": "markdown",
      "metadata": {
        "id": "view-in-github",
        "colab_type": "text"
      },
      "source": [
        "<a href=\"https://colab.research.google.com/github/nksubramanian/A/blob/main/ngrokworking.ipynb\" target=\"_parent\"><img src=\"https://colab.research.google.com/assets/colab-badge.svg\" alt=\"Open In Colab\"/></a>"
      ]
    },
    {
      "cell_type": "code",
      "execution_count": 1,
      "metadata": {
        "colab": {
          "base_uri": "https://localhost:8080/"
        },
        "id": "Is_GeQttAWAy",
        "outputId": "e96f3387-3fad-4f83-8346-a2b1460bddf9"
      },
      "outputs": [
        {
          "output_type": "stream",
          "name": "stdout",
          "text": [
            "Looking in indexes: https://pypi.org/simple, https://us-python.pkg.dev/colab-wheels/public/simple/\n",
            "Collecting pyngrok\n",
            "  Downloading pyngrok-5.1.0.tar.gz (745 kB)\n",
            "\u001b[K     |████████████████████████████████| 745 kB 7.6 MB/s \n",
            "\u001b[?25hRequirement already satisfied: PyYAML in /usr/local/lib/python3.7/dist-packages (from pyngrok) (6.0)\n",
            "Building wheels for collected packages: pyngrok\n",
            "  Building wheel for pyngrok (setup.py) ... \u001b[?25l\u001b[?25hdone\n",
            "  Created wheel for pyngrok: filename=pyngrok-5.1.0-py3-none-any.whl size=19007 sha256=991a78c5f6821db94038acd3bf436aeacad0624d596192e852e64c3738b8b72b\n",
            "  Stored in directory: /root/.cache/pip/wheels/bf/e6/af/ccf6598ecefecd44104069371795cb9b3afbcd16987f6ccfb3\n",
            "Successfully built pyngrok\n",
            "Installing collected packages: pyngrok\n",
            "Successfully installed pyngrok-5.1.0\n"
          ]
        }
      ],
      "source": [
        "!pip install pyngrok"
      ]
    },
    {
      "cell_type": "code",
      "source": [
        "%mkdir templates -p"
      ],
      "metadata": {
        "id": "wU7ErlNJBGqg"
      },
      "execution_count": 3,
      "outputs": []
    },
    {
      "cell_type": "code",
      "source": [
        "%%writefile templates/index.html\n",
        "<html>\n",
        "<head>\n",
        "<title>Python Flask Upload and display image</title>\n",
        "<link rel=\"stylesheet\" href=\"https://maxcdn.bootstrapcdn.com/bootstrap/3.3.6/css/bootstrap.min.css\" />        \n",
        "<script src=\"https://ajax.googleapis.com/ajax/libs/jquery/3.1.0/jquery.min.js\"></script>\n",
        "</head>\n",
        "<body>\n",
        "<p><h1 align=\"center\">Python Flask Upload and display image</h1></p>\n",
        "<div class=\"container\">\n",
        "<div class=\"row\">\n",
        "    <h2>Select a file to upload</h2>\n",
        "    <p>\n",
        "        {% with messages = get_flashed_messages() %}\n",
        "          {% if messages %}\n",
        "            <ul>\n",
        "            {% for message in messages %}\n",
        "              <li>{{ message }}</li>\n",
        "            {% endfor %}\n",
        "            </ul>\n",
        "          {% endif %}\n",
        "        {% endwith %}\n",
        "    </p>\n",
        "    {% if filename %}\n",
        "        <div>\n",
        "            <img src=\"{{ url_for('display_image', filename=filename) }}\">\n",
        "        </div>\n",
        "    {% endif %}\n",
        "    <form method=\"post\" action=\"/\" enctype=\"multipart/form-data\">\n",
        "        <dl>\n",
        "            <p>\n",
        "                <input type=\"file\" name=\"file\" class=\"form-control\" autocomplete=\"off\" required>\n",
        "            </p>\n",
        "        </dl>\n",
        "        <p>\n",
        "            <input type=\"submit\" value=\"Submit\" class=\"btn btn-info\">\n",
        "        </p>\n",
        "    </form>\n",
        "</div>\n",
        "</div>\n",
        "</body>\n",
        "</html>\n"
      ],
      "metadata": {
        "id": "nsdhF8zTBcOv",
        "colab": {
          "base_uri": "https://localhost:8080/"
        },
        "outputId": "e68d193e-a007-4c2f-c22e-3439d690da11"
      },
      "execution_count": 4,
      "outputs": [
        {
          "output_type": "stream",
          "name": "stdout",
          "text": [
            "Writing templates/index.html\n"
          ]
        }
      ]
    },
    {
      "cell_type": "code",
      "source": [
        "from flask import Flask, render_template\n",
        "import os\n",
        "import threading\n",
        "\n",
        "from flask import Flask, flash, request, redirect, url_for, render_template\n",
        "import urllib.request\n",
        "import os\n",
        "from werkzeug.utils import secure_filename\n",
        "\n",
        "from flask import Flask, render_template\n",
        "from pyngrok import ngrok\n",
        "os.environ[\"FLASK_ENV\"] = \"development\""
      ],
      "metadata": {
        "id": "fAMpISnNB424"
      },
      "execution_count": 5,
      "outputs": []
    },
    {
      "cell_type": "code",
      "source": [
        "app = Flask(__name__)\n",
        "UPLOAD_FOLDER = '/content/uploads'\n",
        " \n",
        "app.secret_key = \"secret key\"\n",
        "app.config['UPLOAD_FOLDER'] = UPLOAD_FOLDER\n",
        "app.config['MAX_CONTENT_LENGTH'] = 16 * 1024 * 1024\n",
        " \n",
        "ALLOWED_EXTENSIONS = set(['png', 'jpg', 'jpeg', 'gif'])\n",
        " \n",
        "def allowed_file(filename):\n",
        "    return '.' in filename and filename.rsplit('.', 1)[1].lower() in ALLOWED_EXTENSIONS\n",
        "port = 5000\n",
        "ngrok.set_auth_token(\"1yXn3NSEMkqwyXHoBjWGC7sw1ul_754qikbMjYAP1xC68G4sT\")\n",
        "public_url = ngrok.connect(port).public_url\n",
        "print(\" * ngrok tunnel\\\"{}\\\"-> \\\"http://127.0.0.1:{}\\\"\".format(public_url,port))\n",
        "app.config[\"BASE_URL\"] = public_url\n",
        "@app.route(\"/\")\n",
        "def hello():\n",
        "    return render_template(\"index.html\")\n",
        "\n",
        "@app.route('/', methods=['POST'])\n",
        "def upload_image():\n",
        "    if 'file' not in request.files:\n",
        "        flash('No file part')\n",
        "        return redirect(request.url)\n",
        "    file = request.files['file']\n",
        "    if file.filename == '':\n",
        "        flash('No image selected for uploading')\n",
        "        return redirect(request.url)\n",
        "    if file and allowed_file(file.filename):\n",
        "        filename = secure_filename(file.filename)\n",
        "        file.save(os.path.join(app.config['UPLOAD_FOLDER'], filename))\n",
        "        #print('upload_image filename: ' + filename)\n",
        "        flash('Image successfully uploaded and displayed below')\n",
        "        return render_template('index.html', filename=filename)\n",
        "    else:\n",
        "        flash('Allowed image types are - png, jpg, jpeg, gif')\n",
        "        return redirect(request.url)\n",
        " \n",
        "@app.route('/display/<filename>')\n",
        "def display_image(filename):\n",
        "    #print('display_image filename: ' + filename)\n",
        "    return redirect(url_for('static', filename='uploads/' + filename), code=301)\n",
        "threading.Thread(target=app.run, kwargs={\"use_reloader\":False}).start()"
      ],
      "metadata": {
        "colab": {
          "base_uri": "https://localhost:8080/"
        },
        "id": "YyfXsuWnAED-",
        "outputId": "b4af5f49-05ba-463d-da47-3cadd66700e7"
      },
      "execution_count": 6,
      "outputs": [
        {
          "output_type": "stream",
          "name": "stdout",
          "text": [
            " * ngrok tunnel\"http://def9-34-83-36-20.ngrok.io\"-> \"http://127.0.0.1:5000\"\n",
            " * Serving Flask app \"__main__\" (lazy loading)\n",
            " * Environment: development\n",
            " * Debug mode: on\n"
          ]
        },
        {
          "output_type": "stream",
          "name": "stderr",
          "text": [
            "INFO:werkzeug: * Running on http://127.0.0.1:5000/ (Press CTRL+C to quit)\n"
          ]
        }
      ]
    },
    {
      "cell_type": "code",
      "source": [],
      "metadata": {
        "id": "Wpiy16EQCR7_"
      },
      "execution_count": null,
      "outputs": []
    }
  ]
}