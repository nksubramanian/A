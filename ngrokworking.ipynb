{
  "nbformat": 4,
  "nbformat_minor": 0,
  "metadata": {
    "colab": {
      "provenance": [],
      "collapsed_sections": [],
      "include_colab_link": true
    },
    "kernelspec": {
      "name": "python3",
      "display_name": "Python 3"
    },
    "language_info": {
      "name": "python"
    }
  },
  "cells": [
    {
      "cell_type": "markdown",
      "metadata": {
        "id": "view-in-github",
        "colab_type": "text"
      },
      "source": [
        "<a href=\"https://colab.research.google.com/github/nksubramanian/A/blob/main/ngrokworking.ipynb\" target=\"_parent\"><img src=\"https://colab.research.google.com/assets/colab-badge.svg\" alt=\"Open In Colab\"/></a>"
      ]
    },
    {
      "cell_type": "code",
      "execution_count": 7,
      "metadata": {
        "colab": {
          "base_uri": "https://localhost:8080/"
        },
        "id": "Is_GeQttAWAy",
        "outputId": "2f8390be-440d-49f5-94f9-ac5fe5ce0b89"
      },
      "outputs": [
        {
          "output_type": "stream",
          "name": "stdout",
          "text": [
            "Looking in indexes: https://pypi.org/simple, https://us-python.pkg.dev/colab-wheels/public/simple/\n",
            "Requirement already satisfied: pyngrok in /usr/local/lib/python3.7/dist-packages (5.1.0)\n",
            "Requirement already satisfied: PyYAML in /usr/local/lib/python3.7/dist-packages (from pyngrok) (6.0)\n"
          ]
        }
      ],
      "source": [
        "!pip install pyngrok"
      ]
    },
    {
      "cell_type": "code",
      "source": [
        "%mkdir templates -p"
      ],
      "metadata": {
        "id": "wU7ErlNJBGqg"
      },
      "execution_count": 2,
      "outputs": []
    },
    {
      "cell_type": "code",
      "source": [
        "%%writefile templates/index.html\n",
        "<html>\n",
        "<head><style>\n",
        " body{\n",
        "   background:lightblue;\n",
        "    \n",
        "}\n",
        "</style>\n",
        "<body>\n",
        "<h1>Welcome</h1>\n",
        "</body>\n",
        "</html>\n"
      ],
      "metadata": {
        "id": "nsdhF8zTBcOv",
        "outputId": "2e8796a2-fd31-464e-f11d-5099ec0a8f92",
        "colab": {
          "base_uri": "https://localhost:8080/"
        }
      },
      "execution_count": 4,
      "outputs": [
        {
          "output_type": "stream",
          "name": "stdout",
          "text": [
            "Overwriting templates/index.html\n"
          ]
        }
      ]
    },
    {
      "cell_type": "code",
      "source": [
        "from flask import Flask, render_template\n",
        "import os\n",
        "import threading\n",
        "\n",
        "from flask import Flask, render_template\n",
        "from pyngrok import ngrok\n",
        "os.environ[\"FLASK_ENV\"] = \"development\""
      ],
      "metadata": {
        "id": "fAMpISnNB424"
      },
      "execution_count": 5,
      "outputs": []
    },
    {
      "cell_type": "code",
      "source": [
        "app = Flask(__name__)\n",
        "port = 5000\n",
        "ngrok.set_auth_token(\"1yXn3NSEMkqwyXHoBjWGC7sw1ul_754qikbMjYAP1xC68G4sT\")\n",
        "public_url = ngrok.connect(port).public_url\n",
        "print(\" * ngrok tunnel\\\"{}\\\"-> \\\"http://127.0.0.1:{}\\\"\".format(public_url,port))\n",
        "app.config[\"BASE_URL\"] = public_url\n",
        "@app.route(\"/\")\n",
        "def hello():\n",
        "    return render_template(\"index.html\")\n",
        "threading.Thread(target=app.run, kwargs={\"use_reloader\":False}).start()"
      ],
      "metadata": {
        "id": "YyfXsuWnAED-",
        "outputId": "45d25b58-122e-4322-cf46-c357960045aa",
        "colab": {
          "base_uri": "https://localhost:8080/"
        }
      },
      "execution_count": 6,
      "outputs": [
        {
          "output_type": "stream",
          "name": "stdout",
          "text": [
            " * ngrok tunnel\"http://5fde-34-125-119-103.ngrok.io\"-> \"http://127.0.0.1:5000\"\n",
            " * Serving Flask app \"__main__\" (lazy loading)\n",
            " * Environment: development\n",
            " * Debug mode: on\n"
          ]
        },
        {
          "output_type": "stream",
          "name": "stderr",
          "text": [
            "INFO:werkzeug: * Running on http://127.0.0.1:5000/ (Press CTRL+C to quit)\n"
          ]
        }
      ]
    },
    {
      "cell_type": "code",
      "source": [],
      "metadata": {
        "id": "Wpiy16EQCR7_"
      },
      "execution_count": null,
      "outputs": []
    }
  ]
}